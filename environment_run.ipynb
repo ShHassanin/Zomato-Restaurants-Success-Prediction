{
 "cells": [
  {
   "cell_type": "code",
   "execution_count": null,
   "id": "85b8c2c6-39d9-4ba2-a48d-f5497fff8595",
   "metadata": {},
   "outputs": [],
   "source": [
    "!streamlit run streamlitPrediction.py"
   ]
  },
  {
   "cell_type": "code",
   "execution_count": null,
   "id": "15e7ab6b-b286-4d0b-ab73-f334db9af746",
   "metadata": {},
   "outputs": [],
   "source": []
  }
 ],
 "metadata": {
  "kernelspec": {
   "display_name": "Python 3 (ipykernel)",
   "language": "python",
   "name": "python3"
  },
  "language_info": {
   "codemirror_mode": {
    "name": "ipython",
    "version": 3
   },
   "file_extension": ".py",
   "mimetype": "text/x-python",
   "name": "python",
   "nbconvert_exporter": "python",
   "pygments_lexer": "ipython3",
   "version": "3.9.18"
  }
 },
 "nbformat": 4,
 "nbformat_minor": 5
}
